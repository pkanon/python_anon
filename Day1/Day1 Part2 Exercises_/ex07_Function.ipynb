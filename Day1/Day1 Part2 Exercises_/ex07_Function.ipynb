{
 "cells": [
  {
   "cell_type": "markdown",
   "metadata": {},
   "source": [
    "### Defining functions"
   ]
  },
  {
   "cell_type": "code",
   "execution_count": 1,
   "metadata": {
    "collapsed": true
   },
   "outputs": [],
   "source": [
    "def main():\n",
    "    testfunc()"
   ]
  },
  {
   "cell_type": "code",
   "execution_count": 2,
   "metadata": {
    "collapsed": true
   },
   "outputs": [],
   "source": [
    "def testfunc():\n",
    "    print('This is a test function')"
   ]
  },
  {
   "cell_type": "code",
   "execution_count": 3,
   "metadata": {},
   "outputs": [
    {
     "name": "stdout",
     "output_type": "stream",
     "text": [
      "This is a test function\n"
     ]
    }
   ],
   "source": [
    "if __name__ == \"__main__\": main()"
   ]
  },
  {
   "cell_type": "markdown",
   "metadata": {
    "collapsed": true
   },
   "source": [
    "### List of arguments"
   ]
  },
  {
   "cell_type": "code",
   "execution_count": 6,
   "metadata": {
    "collapsed": true
   },
   "outputs": [],
   "source": [
    "def main():\n",
    "    testfunc(1,2,3,42,43,45,46)\n",
    "\n",
    "def testfunc(this, that, other, *args): #*args just a list of optional arguments (arbitrary)\n",
    "    print(this, that, other, args) #args is tuple\n",
    "    print(this, that, other, *args)\n",
    "    \n",
    "    #iterate through args\n",
    "    for i in args:\n",
    "        print(i, end=' ')"
   ]
  },
  {
   "cell_type": "code",
   "execution_count": 7,
   "metadata": {},
   "outputs": [
    {
     "name": "stdout",
     "output_type": "stream",
     "text": [
      "1 2 3 (42, 43, 45, 46)\n",
      "1 2 3 42 43 45 46\n",
      "42 43 45 46 "
     ]
    }
   ],
   "source": [
    "if __name__ == \"__main__\": main()"
   ]
  },
  {
   "cell_type": "markdown",
   "metadata": {},
   "source": [
    "### Named function arguments"
   ]
  },
  {
   "cell_type": "code",
   "execution_count": 16,
   "metadata": {
    "collapsed": true
   },
   "outputs": [],
   "source": [
    "def main():\n",
    "    testfunc(5, 6, 7, 8, 9, 10, one =1, two=2, four=42, aa=77, zz=99)\n",
    "    \n",
    "def testfunc(this, that, other, *args, **kwargs): #keyword arguments (dictionary)\n",
    "    print('This is a test function', \n",
    "          this, that, other, args,\n",
    "          kwargs['one'], kwargs['two'], kwargs['four'])\n",
    "    \n",
    "    for k in kwargs:\n",
    "        print(k, kwargs[k])\n",
    "    for n in args:\n",
    "        print(n)"
   ]
  },
  {
   "cell_type": "code",
   "execution_count": 17,
   "metadata": {},
   "outputs": [
    {
     "name": "stdout",
     "output_type": "stream",
     "text": [
      "This is a test function 5 6 7 (8, 9, 10) 1 2 42\n",
      "one 1\n",
      "two 2\n",
      "four 42\n",
      "aa 77\n",
      "zz 99\n",
      "8\n",
      "9\n",
      "10\n"
     ]
    }
   ],
   "source": [
    "if __name__ == \"__main__\": main()"
   ]
  },
  {
   "cell_type": "markdown",
   "metadata": {},
   "source": [
    "### Returning values from functions"
   ]
  },
  {
   "cell_type": "code",
   "execution_count": 18,
   "metadata": {
    "collapsed": true
   },
   "outputs": [],
   "source": [
    "def main():\n",
    "    print(testfunc())\n",
    "    print(testfunc2())\n",
    "    for n in testfunc3():\n",
    "        print(n, end = ' ')\n",
    "\n",
    "def testfunc():\n",
    "    return 'This is a test function' #return string\n",
    "    #print('This is a test function')\n",
    "    \n",
    "def testfunc2():\n",
    "    return 42      #return a number\n",
    "\n",
    "def testfunc3():\n",
    "    return range(25) #return an object"
   ]
  },
  {
   "cell_type": "code",
   "execution_count": 19,
   "metadata": {},
   "outputs": [
    {
     "name": "stdout",
     "output_type": "stream",
     "text": [
      "This is a test function\n",
      "42\n",
      "0 1 2 3 4 5 6 7 8 9 10 11 12 13 14 15 16 17 18 19 20 21 22 23 24 "
     ]
    }
   ],
   "source": [
    "if __name__ == \"__main__\": main()"
   ]
  },
  {
   "cell_type": "markdown",
   "metadata": {},
   "source": [
    "### Generator function"
   ]
  },
  {
   "cell_type": "code",
   "execution_count": 25,
   "metadata": {},
   "outputs": [
    {
     "name": "stdout",
     "output_type": "stream",
     "text": [
      "0 1 2 3 4 5 6 7 8 9 10 11 12 13 14 15 16 17 18 19 20 21 22 23 24 25 "
     ]
    }
   ],
   "source": [
    "def main():\n",
    "    for i in inclusive_range(0,25,1):\n",
    "        print(i, end = ' ')\n",
    "        \n",
    "def inclusive_range(start, stop, step):\n",
    "    i = start\n",
    "    while i <= stop:\n",
    "        yield i #the different between yield and return is that every time yield run it keeps continue through the loop\n",
    "        i+= step\n",
    "        \n",
    "if __name__ == \"__main__\": main()"
   ]
  },
  {
   "cell_type": "code",
   "execution_count": 33,
   "metadata": {},
   "outputs": [
    {
     "name": "stdout",
     "output_type": "stream",
     "text": [
      "0 1 2 3 4 5 6 7 8 9 10 11 12 13 14 15 16 17 18 19 20 21 22 23 24 25 \n",
      "5 8 11 14 17 20 23 \n"
     ]
    }
   ],
   "source": [
    "def main():\n",
    "    for i in inclusive_range(25):\n",
    "        print(i, end = ' ')\n",
    "    print()\n",
    "    for i in inclusive_range(5,25,3):\n",
    "        print(i, end = ' ')\n",
    "    print()\n",
    "#     for i in inclusive_range(5,25,3,42):\n",
    "#     for i in inclusive_range():\n",
    "#         print(i, end = ' ')\n",
    "#     print()\n",
    "        \n",
    "def inclusive_range(*args): #input is tuple\n",
    "    numargs = len(args)   #args is tuple\n",
    "    if numargs < 1: raise TypeError('require at least one argument')\n",
    "    elif numargs ==1: \n",
    "        stop = args[0]\n",
    "        start = 0\n",
    "        step = 1\n",
    "    elif numargs ==2:\n",
    "        (start, stop) = args\n",
    "        step = 1\n",
    "    elif numargs ==3:\n",
    "        (start, stop, step) = args\n",
    "    else: raise TypeError('inclusive_range2 expected at most 3 arguments, got {}'.format(numargs)) \n",
    "    i = start\n",
    "    while i <= stop:\n",
    "        yield i #the different between yield and return is that every time yield run it keeps continue through the loop\n",
    "        i+= step\n",
    "        \n",
    "if __name__ == \"__main__\": main()"
   ]
  }
 ],
 "metadata": {
  "kernelspec": {
   "display_name": "Python 3",
   "language": "python",
   "name": "python3"
  },
  "language_info": {
   "codemirror_mode": {
    "name": "ipython",
    "version": 3
   },
   "file_extension": ".py",
   "mimetype": "text/x-python",
   "name": "python",
   "nbconvert_exporter": "python",
   "pygments_lexer": "ipython3",
   "version": "3.6.1"
  }
 },
 "nbformat": 4,
 "nbformat_minor": 2
}
