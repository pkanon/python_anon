{
 "cells": [
  {
   "cell_type": "code",
   "execution_count": 7,
   "metadata": {},
   "outputs": [
    {
     "name": "stdout",
     "output_type": "stream",
     "text": [
      "this is a string 42\n",
      "this is a string 42\n",
      "this is a string 25 and 50\n",
      "this is a string 50 and 25\n",
      "This is a string\n",
      "THIS IS A STRING\n",
      "this is a string\n",
      "tHIS IS A sTRING\n",
      "2\n",
      "This is a String\n",
      "False\n",
      "False\n",
      "False\n",
      "True\n",
      "\n",
      "          This is a String             \n",
      "This is a String\n",
      "          This is a String\n",
      "\n",
      "This is a String\n",
      "\n",
      "This is a String\n",
      "This is a String\n",
      "\n"
     ]
    }
   ],
   "source": [
    "s = 'This is a String'\n",
    "\n",
    "print('this is a string {}'.format(42))\n",
    "print('this is a string %d' %42)\n",
    "print('this is a string {} and {}'.format(25,50))\n",
    "print('this is a string {1} and {0}'.format(25,50))\n",
    "\n",
    "print(s.capitalize())\n",
    "print(s.upper())\n",
    "print(s.lower())\n",
    "print(s.swapcase())\n",
    "print(s.find('is'))\n",
    "print(s.replace('this', 'that'))\n",
    "print(s.isalnum())\n",
    "print(s.isalpha())\n",
    "print(s.isdigit())\n",
    "print(s.isprintable())\n",
    "print(s.center(80))\n",
    "print()\n",
    "s1 = '          This is a String             '\n",
    "print(s1)\n",
    "print(s1.strip())\n",
    "print(s1.rstrip())\n",
    "print()\n",
    "s2 = 'This is a String\\n'\n",
    "print(s2)\n",
    "print(s2.strip())\n",
    "print(s2.rstrip('\\n'))\n",
    "print()\n",
    "\n"
   ]
  },
  {
   "cell_type": "code",
   "execution_count": 14,
   "metadata": {},
   "outputs": [
    {
     "name": "stdout",
     "output_type": "stream",
     "text": [
      "['This', 'is', 'a', 'string', 'of', 'words']\n",
      "['Th', 's ', 's a str', 'ng of words']\n",
      "\n",
      "This:is:a:string:of:words\n"
     ]
    }
   ],
   "source": [
    "s = 'This is a string of words'\n",
    "print(s.split())\n",
    "print(s.split('i'))\n",
    "print()\n",
    "\n",
    "words = s.split()\n",
    "new = ':'.join(words)\n",
    "print(new)"
   ]
  },
  {
   "cell_type": "code",
   "execution_count": null,
   "metadata": {
    "collapsed": true
   },
   "outputs": [],
   "source": []
  }
 ],
 "metadata": {
  "kernelspec": {
   "display_name": "Python 3",
   "language": "python",
   "name": "python3"
  },
  "language_info": {
   "codemirror_mode": {
    "name": "ipython",
    "version": 3
   },
   "file_extension": ".py",
   "mimetype": "text/x-python",
   "name": "python",
   "nbconvert_exporter": "python",
   "pygments_lexer": "ipython3",
   "version": "3.6.1"
  }
 },
 "nbformat": 4,
 "nbformat_minor": 2
}
