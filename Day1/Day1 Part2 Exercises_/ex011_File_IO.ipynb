{
 "cells": [
  {
   "cell_type": "markdown",
   "metadata": {},
   "source": [
    "### Opening files"
   ]
  },
  {
   "cell_type": "code",
   "execution_count": 3,
   "metadata": {},
   "outputs": [
    {
     "name": "stdout",
     "output_type": "stream",
     "text": [
      "01 This is a line of text\n",
      "02 This is a line of text\n",
      "03 This is a line of text\n",
      "04 This is a line of text\n",
      "05 This is a line of text\n"
     ]
    }
   ],
   "source": [
    "def main():\n",
    "    f = open('lines.txt', 'r')\n",
    "    for line in f.readlines():\n",
    "        print(line, end = '')\n",
    "\n",
    "if __name__ == \"__main__\": main()"
   ]
  },
  {
   "cell_type": "markdown",
   "metadata": {},
   "source": [
    "### Reading and writing text files"
   ]
  },
  {
   "cell_type": "code",
   "execution_count": 4,
   "metadata": {},
   "outputs": [
    {
     "name": "stdout",
     "output_type": "stream",
     "text": [
      "Done.\n"
     ]
    }
   ],
   "source": [
    "def main():\n",
    "    infile = open('lines.txt', 'r')\n",
    "    outfile = open('new.txt', 'w')\n",
    "    for line in infile:\n",
    "        print(line, file=outfile, end = '')\n",
    "    print('Done.')\n",
    "\n",
    "if __name__ == \"__main__\": main()"
   ]
  },
  {
   "cell_type": "code",
   "execution_count": 16,
   "metadata": {},
   "outputs": [
    {
     "name": "stdout",
     "output_type": "stream",
     "text": [
      "-------\n",
      "Done.\n"
     ]
    }
   ],
   "source": [
    "def main():\n",
    "    buffersize = 50000\n",
    "    infile = open('bigfile.txt', 'r')\n",
    "    outfile = open('new.txt', 'w')\n",
    "    buffer = infile.read(buffersize)\n",
    "    while len(buffer):\n",
    "        outfile.write(buffer)\n",
    "        print('-', end='')\n",
    "        buffer = infile.read(buffersize)\n",
    "    print()\n",
    "    print('Done.')\n",
    "\n",
    "if __name__ == \"__main__\": main()"
   ]
  },
  {
   "cell_type": "code",
   "execution_count": null,
   "metadata": {
    "collapsed": true
   },
   "outputs": [],
   "source": []
  }
 ],
 "metadata": {
  "kernelspec": {
   "display_name": "Python 3",
   "language": "python",
   "name": "python3"
  },
  "language_info": {
   "codemirror_mode": {
    "name": "ipython",
    "version": 3
   },
   "file_extension": ".py",
   "mimetype": "text/x-python",
   "name": "python",
   "nbconvert_exporter": "python",
   "pygments_lexer": "ipython3",
   "version": "3.6.1"
  }
 },
 "nbformat": 4,
 "nbformat_minor": 2
}
