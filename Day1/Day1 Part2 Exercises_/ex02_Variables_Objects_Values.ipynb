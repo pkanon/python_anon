{
 "cells": [
  {
   "cell_type": "markdown",
   "metadata": {},
   "source": [
    "Numbers"
   ]
  },
  {
   "cell_type": "code",
   "execution_count": 1,
   "metadata": {
    "collapsed": true
   },
   "outputs": [],
   "source": [
    "def main():\n",
    "    num = 42\n",
    "    print(type(num), num)\n",
    "    num = 42.0\n",
    "    print(type(num), num)\n",
    "    num = 42/9\n",
    "    print(type(num), num)\n",
    "    num = 42//9\n",
    "    print(type(num), num)\n",
    "    num = round(42/9)\n",
    "    print(type(num), num)\n",
    "    num = round(42/9, 2)\n",
    "    print(type(num), num)\n",
    "    num = 42%9\n",
    "    print(type(num), num)\n",
    "    num = int(42.9)\n",
    "    print(type(num), num)\n",
    "    num = float(42)\n",
    "    print(type(num), num)"
   ]
  },
  {
   "cell_type": "code",
   "execution_count": 2,
   "metadata": {},
   "outputs": [
    {
     "name": "stdout",
     "output_type": "stream",
     "text": [
      "<class 'int'> 42\n",
      "<class 'float'> 42.0\n",
      "<class 'float'> 4.666666666666667\n",
      "<class 'int'> 4\n",
      "<class 'int'> 5\n",
      "<class 'float'> 4.67\n",
      "<class 'int'> 6\n",
      "<class 'int'> 42\n",
      "<class 'float'> 42.0\n"
     ]
    }
   ],
   "source": [
    "if __name__ == \"__main__\": main()"
   ]
  },
  {
   "cell_type": "markdown",
   "metadata": {},
   "source": [
    "Variables - String"
   ]
  },
  {
   "cell_type": "code",
   "execution_count": 7,
   "metadata": {
    "collapsed": true
   },
   "outputs": [],
   "source": [
    "def main():\n",
    "    s = 'This is a string!'\n",
    "    print(s)\n",
    "    s = \"This is a string!\"\n",
    "    print(s)\n",
    "    s = \"This is a\\nstring!\"\n",
    "    print(s)\n",
    "    s = r\"This is a\\nstring!\" #raw string\n",
    "    print(s)\n",
    "    n = 42\n",
    "    s = \"This is a {} string!\".format(n) # Python3\n",
    "    print(s)\n",
    "    s = \"This is a %s string!\" % n # Python2 obsolescence don't use this \n",
    "    print(s)\n",
    "    s = '''\n",
    "    this is a string\n",
    "    line after line\n",
    "    of text and more\n",
    "    text.''' # allows to expand a string to several lines\n",
    "    print(s)\n",
    "    \n",
    "    #below is used to escape a new (blank) line \n",
    "    s = '''\\\n",
    "    this is a string\n",
    "    line after line\n",
    "    of text and more\n",
    "    text.'''\n",
    "    print(s)"
   ]
  },
  {
   "cell_type": "code",
   "execution_count": 8,
   "metadata": {},
   "outputs": [
    {
     "name": "stdout",
     "output_type": "stream",
     "text": [
      "This is a string!\n",
      "This is a string!\n",
      "This is a\n",
      "string!\n",
      "This is a\\nstring!\n",
      "This is a 42 string!\n",
      "This is a 42 string!\n",
      "\n",
      "    this is a string\n",
      "    line after line\n",
      "    of text and more\n",
      "    text.\n",
      "    this is a string\n",
      "    line after line\n",
      "    of text and more\n",
      "    text.\n"
     ]
    }
   ],
   "source": [
    "if __name__ == \"__main__\": main()"
   ]
  },
  {
   "cell_type": "markdown",
   "metadata": {
    "collapsed": true
   },
   "source": [
    "Lists and tuples"
   ]
  },
  {
   "cell_type": "code",
   "execution_count": 9,
   "metadata": {
    "collapsed": true
   },
   "outputs": [],
   "source": [
    "def main():\n",
    "    #Tuple type: immutable\n",
    "    x = (1,2,3)\n",
    "    print(type(x),x)  #this is tuple -> immutable object cannot change anything FIX!!\n",
    "    \n",
    "    #List type: mutable \n",
    "    y = [1,2,3]\n",
    "    print(type(y),y)  #this is list -> mutable can change/add values\n",
    "    y.append(5)\n",
    "    print(type(y),y)\n",
    "    y.insert(0,7) # index=0 put 7\n",
    "    print(type(y),y)\n",
    "    y.insert(2,9) # index=2 put 9\n",
    "    print(type(y),y)\n",
    "    \n",
    "    z = 'string'  #string is also a list just like any sequential type\n",
    "    print(type(z), z[2])\n",
    "    print(type(z), z[2:4]) #called slice start at index 2 end at index 4 not return last element \n",
    "    \n",
    "    x=(1,2,3,4,5) #immutable tuple\n",
    "    for i in x: \n",
    "        print(i)\n",
    "    \n",
    "    for i in z: \n",
    "        print(i)"
   ]
  },
  {
   "cell_type": "code",
   "execution_count": 10,
   "metadata": {},
   "outputs": [
    {
     "name": "stdout",
     "output_type": "stream",
     "text": [
      "This is the variables.py file.\n",
      "<class 'tuple'> (1, 2, 3)\n",
      "<class 'list'> [1, 2, 3]\n",
      "<class 'list'> [1, 2, 3, 5]\n",
      "<class 'list'> [7, 1, 2, 3, 5]\n",
      "<class 'list'> [7, 1, 9, 2, 3, 5]\n",
      "<class 'str'> r\n",
      "<class 'str'> ri\n",
      "1\n",
      "2\n",
      "3\n",
      "4\n",
      "5\n",
      "s\n",
      "t\n",
      "r\n",
      "i\n",
      "n\n",
      "g\n"
     ]
    }
   ],
   "source": [
    "if __name__ == \"__main__\": main()"
   ]
  },
  {
   "cell_type": "markdown",
   "metadata": {},
   "source": [
    "Dictionaries"
   ]
  },
  {
   "cell_type": "code",
   "execution_count": 11,
   "metadata": {
    "collapsed": true
   },
   "outputs": [],
   "source": [
    "def main():\n",
    "    d = {'one':1, 'two':2, 'three':3, 'four':4, 'five':5}\n",
    "    print(d)\n",
    "    \n",
    "    #show values\n",
    "    for k in d:\n",
    "        print(k, d[k])  #k is key(index), d[k] is value\n",
    "        \n",
    "    for k in sorted(d.keys()):  #sort by alphabetical order\n",
    "        print(k, d[k])  #k is index, d[k] is value    \n",
    "    \n",
    "    # can use this instead \n",
    "    dic = dict(\n",
    "              one =1, two=2, three=3, four=4, five = 'five'\n",
    "              )    \n",
    "    \n",
    "    for k in sorted(dic.keys()):  #sort by alphabetical order\n",
    "        print(k, dci[k])  #k is index, d[k] is value  \n",
    "    \n",
    "    #add value to this mutable dictionary\n",
    "    dic['seven']=7    \n",
    "    for k in sorted(dic.keys()):  #sort by alphabetical order\n",
    "        print(k, dic[k])  #k is index, d[k] is value"
   ]
  },
  {
   "cell_type": "code",
   "execution_count": 13,
   "metadata": {},
   "outputs": [
    {
     "name": "stdout",
     "output_type": "stream",
     "text": [
      "{'one': 1, 'two': 2, 'three': 3, 'four': 4, 'five': 5}\n",
      "one 1\n",
      "two 2\n",
      "three 3\n",
      "four 4\n",
      "five 5\n",
      "five 5\n",
      "four 4\n",
      "one 1\n",
      "three 3\n",
      "two 2\n",
      "five five\n",
      "four 4\n",
      "one 1\n",
      "three 3\n",
      "two 2\n",
      "five five\n",
      "four 4\n",
      "one 1\n",
      "seven 7\n",
      "three 3\n",
      "two 2\n"
     ]
    }
   ],
   "source": [
    "if __name__ == \"__main__\": main()"
   ]
  }
 ],
 "metadata": {
  "kernelspec": {
   "display_name": "Python [default]",
   "language": "python",
   "name": "python3"
  },
  "language_info": {
   "codemirror_mode": {
    "name": "ipython",
    "version": 3
   },
   "file_extension": ".py",
   "mimetype": "text/x-python",
   "name": "python",
   "nbconvert_exporter": "python",
   "pygments_lexer": "ipython3",
   "version": "3.6.2"
  }
 },
 "nbformat": 4,
 "nbformat_minor": 2
}
