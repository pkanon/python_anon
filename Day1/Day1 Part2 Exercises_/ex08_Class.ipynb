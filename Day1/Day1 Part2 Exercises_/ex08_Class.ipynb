{
 "cells": [
  {
   "cell_type": "markdown",
   "metadata": {},
   "source": [
    "### Classes and objects"
   ]
  },
  {
   "cell_type": "code",
   "execution_count": 1,
   "metadata": {},
   "outputs": [
    {
     "name": "stdout",
     "output_type": "stream",
     "text": [
      "Quaaack!\n",
      "Walks like a duck.\n"
     ]
    }
   ],
   "source": [
    "class Duck:\n",
    "    def quack(self):\n",
    "        print('Quaaack!')\n",
    "\n",
    "    def walk(self):\n",
    "        print('Walks like a duck.')\n",
    "        \n",
    "def main():\n",
    "    donald = Duck()\n",
    "    donald.quack()\n",
    "    donald.walk()\n",
    "\n",
    "if __name__ == \"__main__\": main()"
   ]
  },
  {
   "cell_type": "code",
   "execution_count": 4,
   "metadata": {},
   "outputs": [
    {
     "name": "stdout",
     "output_type": "stream",
     "text": [
      "Quaaack! 47\n",
      "Walks like a duck. 47\n",
      "Quaaack! 15\n",
      "Walks like a duck. 15\n"
     ]
    }
   ],
   "source": [
    "class Duck:\n",
    "    def __init__(self, value):\n",
    "        self._v = value\n",
    "        \n",
    "    def quack(self):\n",
    "        print('Quaaack!', self._v)\n",
    "\n",
    "    def walk(self):\n",
    "        print('Walks like a duck.', self._v)\n",
    "        \n",
    "def main():\n",
    "    donald = Duck(47)\n",
    "    frank = Duck(15)\n",
    "    donald.quack()\n",
    "    donald.walk()\n",
    "    frank.quack()\n",
    "    frank.walk()\n",
    "\n",
    "if __name__ == \"__main__\": main()"
   ]
  },
  {
   "cell_type": "code",
   "execution_count": 15,
   "metadata": {},
   "outputs": [
    {
     "name": "stdout",
     "output_type": "stream",
     "text": [
      "white\n",
      "blue\n",
      "white\n",
      "red\n"
     ]
    }
   ],
   "source": [
    "class Duck:\n",
    "    def __init__(self, color='white'):\n",
    "        self._color = color\n",
    "        \n",
    "    def quack(self):\n",
    "        print('Quaaack!', self.v)\n",
    "\n",
    "    def walk(self):\n",
    "        print('Walks like a duck.', self.v)\n",
    "        \n",
    "    def set_color(self, color):\n",
    "        self._color = color\n",
    "    \n",
    "    def get_color(self):\n",
    "        return self._color\n",
    "        \n",
    "def main():\n",
    "    donald = Duck()\n",
    "    print(donald._color)\n",
    "    donald._color = 'blue'\n",
    "    print(donald._color)\n",
    "    \n",
    "    donald1 = Duck()\n",
    "    print(donald1.get_color())\n",
    "    donald1.set_color('red')\n",
    "    print(donald1.get_color())\n",
    "\n",
    "if __name__ == \"__main__\": main()"
   ]
  },
  {
   "cell_type": "markdown",
   "metadata": {},
   "source": [
    "### Inheritance"
   ]
  },
  {
   "cell_type": "code",
   "execution_count": 22,
   "metadata": {},
   "outputs": [
    {
     "name": "stdout",
     "output_type": "stream",
     "text": [
      "Quaaack!\n",
      "Hey! Im walking here!\n",
      "Walks like a duck.\n",
      "I have nice clothes\n",
      "\n",
      "Hey! Im walking here!\n",
      "I have nice clothes\n",
      "I have brown and white fur\n"
     ]
    }
   ],
   "source": [
    "class Animal:\n",
    "    def talk(self): print('I have somthing to say!')\n",
    "    def walk(self): print('Hey! I''m walking here!')\n",
    "    def clothes(self): print('I have nice clothes')\n",
    "        \n",
    "class Duck(Animal): #Duck is a animal, Duck (subclass) inherits from Animal (superclass)\n",
    "    def quack(self):\n",
    "        print('Quaaack!')\n",
    "\n",
    "    def walk(self):\n",
    "        #super().walk() #super calls a method from a super class \n",
    "        print('Walks like a duck.') #override walk method in Animal class\n",
    "        \n",
    "class Dog(Animal):\n",
    "    def clothes(self):\n",
    "        #super().clothes() #super calls a method from a super class \n",
    "        print('I have brown and white fur')\n",
    "        \n",
    "def main():\n",
    "    donald = Duck()\n",
    "    donald.quack()\n",
    "    donald.walk()\n",
    "    donald.clothes()\n",
    "    print()\n",
    "    fido = Dog()\n",
    "    fido.walk()\n",
    "    fido.clothes()\n",
    "    \n",
    "if __name__ == \"__main__\": main()"
   ]
  },
  {
   "cell_type": "markdown",
   "metadata": {},
   "source": [
    "### Polymorphism"
   ]
  },
  {
   "cell_type": "code",
   "execution_count": 24,
   "metadata": {},
   "outputs": [
    {
     "name": "stdout",
     "output_type": "stream",
     "text": [
      "Quaaack!\n",
      "Walks like a duck.\n",
      "The duck cannot bark\n",
      "The duck has feathers\n",
      "The dog cannot quack\n",
      "Walk like a dog\n",
      "Woof!\n",
      "The dog has brown and white fur\n"
     ]
    }
   ],
   "source": [
    "class Duck:\n",
    "    def quack(self):\n",
    "        print('Quaaack!')\n",
    "    def walk(self):\n",
    "        print('Walks like a duck.')\n",
    "    def bark(self): \n",
    "        print('The duck cannot bark')\n",
    "    def fur(self):\n",
    "        print('The duck has feathers')\n",
    "        \n",
    "class Dog:\n",
    "    def bark(self):\n",
    "        print('Woof!')\n",
    "    def fur(self):\n",
    "        print('The dog has brown and white fur')\n",
    "    def walk(self):\n",
    "        print('Walk like a dog')\n",
    "    def quack(self):\n",
    "        print('The dog cannot quack')\n",
    "        \n",
    "def main():\n",
    "    donald = Duck()\n",
    "    fido = Dog()\n",
    "    for o in (donald, fido):\n",
    "        o.quack()\n",
    "        o.walk()\n",
    "        o.bark()\n",
    "        o.fur()\n",
    "\n",
    "if __name__ == \"__main__\": main()"
   ]
  },
  {
   "cell_type": "code",
   "execution_count": 26,
   "metadata": {},
   "outputs": [
    {
     "name": "stdout",
     "output_type": "stream",
     "text": [
      "Woof!\n",
      "The dog has brown and white fur\n",
      "Quaaack!\n",
      "Walks like a duck.\n"
     ]
    }
   ],
   "source": [
    "class Duck:\n",
    "    def quack(self):\n",
    "        print('Quaaack!')\n",
    "    def walk(self):\n",
    "        print('Walks like a duck.')\n",
    "    def bark(self): \n",
    "        print('The duck cannot bark')\n",
    "    def fur(self):\n",
    "        print('The duck has feathers')\n",
    "        \n",
    "class Dog:\n",
    "    def bark(self):\n",
    "        print('Woof!')\n",
    "    def fur(self):\n",
    "        print('The dog has brown and white fur')\n",
    "    def walk(self):\n",
    "        print('Walk like a dog')\n",
    "    def quack(self):\n",
    "        print('The dog cannot quack')\n",
    "        \n",
    "def main():\n",
    "    donald = Duck()\n",
    "    fido = Dog()\n",
    "    in_the_forest(fido)\n",
    "    in_the_pond(donald)\n",
    "\n",
    "def in_the_forest(dog): #interface\n",
    "    dog.bark()\n",
    "    dog.fur()\n",
    "    \n",
    "def in_the_pond(duck): #interface\n",
    "    duck.quack()\n",
    "    duck.walk() \n",
    "\n",
    "if __name__ == \"__main__\": main()"
   ]
  },
  {
   "cell_type": "markdown",
   "metadata": {},
   "source": [
    "### Using generators"
   ]
  },
  {
   "cell_type": "code",
   "execution_count": 27,
   "metadata": {},
   "outputs": [
    {
     "name": "stdout",
     "output_type": "stream",
     "text": [
      "0 1 2 3 4 5 6 7 8 9 10 11 12 13 14 15 16 17 18 19 20 21 22 23 24 \n",
      "5 12 19 \n",
      "5 8 11 14 17 20 23 "
     ]
    }
   ],
   "source": [
    "class inclusive_range: #include __iter__ in the class make it a generator and become iterable\n",
    "    #constructor\n",
    "    def __init__(self,*args):\n",
    "        numargs = len(args)\n",
    "        if numargs < 1: raise TypeError('requires at least one argument')\n",
    "        elif numargs == 1:\n",
    "            self.stop = args[0]\n",
    "            self.start = 0\n",
    "            self.step = 1\n",
    "        elif numargs == 2: \n",
    "            (self.start,self.stop)=args\n",
    "            self.step = 1\n",
    "        elif numargs == 3:\n",
    "            (self.start,self.stop, self.step)=args\n",
    "        else: raise TypeError('expected at most 3 arguments, got {}'.format(numargs))\n",
    "        \n",
    "    #generator\n",
    "    def __iter__(self):\n",
    "        i = self.start\n",
    "        while i<= self.stop:\n",
    "            yield i\n",
    "            i+=self.step\n",
    "            \n",
    "def main():\n",
    "    #1\n",
    "    o = range(25)\n",
    "    for i in o:\n",
    "        print(i, end = ' ')\n",
    "    print()\n",
    "    \n",
    "    #2\n",
    "    x = inclusive_range(5, 25, 7)\n",
    "    for i in x:\n",
    "        print(i, end = ' ')\n",
    "    print()\n",
    "    \n",
    "    #3\n",
    "    for i in inclusive_range(5, 25, 3):\n",
    "        print(i, end=' ')\n",
    "        \n",
    "if __name__ == \"__main__\": main()"
   ]
  },
  {
   "cell_type": "code",
   "execution_count": null,
   "metadata": {
    "collapsed": true
   },
   "outputs": [],
   "source": []
  }
 ],
 "metadata": {
  "kernelspec": {
   "display_name": "Python 3",
   "language": "python",
   "name": "python3"
  },
  "language_info": {
   "codemirror_mode": {
    "name": "ipython",
    "version": 3
   },
   "file_extension": ".py",
   "mimetype": "text/x-python",
   "name": "python",
   "nbconvert_exporter": "python",
   "pygments_lexer": "ipython3",
   "version": "3.6.1"
  }
 },
 "nbformat": 4,
 "nbformat_minor": 2
}
