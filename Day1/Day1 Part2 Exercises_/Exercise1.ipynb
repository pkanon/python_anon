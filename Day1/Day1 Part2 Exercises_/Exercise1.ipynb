{
 "cells": [
  {
   "cell_type": "markdown",
   "metadata": {},
   "source": [
    "Quick look at arithmetic operations\n",
    "+, -, *, **, /, //, %\n",
    "These add, subtraction, multiple, exponentiate, divide, integer divide (drops\n",
    "fractional part), computes remainder on division for integers.\n",
    "Try some examples interactively in IPython window on lower right."
   ]
  },
  {
   "cell_type": "code",
   "execution_count": 5,
   "metadata": {
    "collapsed": true
   },
   "outputs": [],
   "source": [
    "def hello():\n",
    "    \"\"\" prints hello, world \"\"\"\n",
    "    print(\"Hello, world!\")\n",
    "    \n",
    "def areacircle(radius):\n",
    "    \"\"\" Computes the area of a circle of the given radius \"\"\"\n",
    "    area = 3.14*radius**2\n",
    "    print(\"The area of a circle of radius\",radius,\"is\", area)"
   ]
  },
  {
   "cell_type": "markdown",
   "metadata": {},
   "source": [
    "Exercise:\n",
    "Write a function 'def areatriangle(b,h)' to compute the area\n",
    "of a triangle: formula is area = .5*b*h.\n",
    "Output should look like:\n",
    "The area of a triangle of base 3 and height 5 is 7.5\n",
    "\n",
    "You can test your function by executing the following code:"
   ]
  },
  {
   "cell_type": "code",
   "execution_count": 7,
   "metadata": {},
   "outputs": [
    {
     "ename": "IndentationError",
     "evalue": "expected an indented block (<ipython-input-7-a23b37fbc5dc>, line 13)",
     "output_type": "error",
     "traceback": [
      "\u001b[1;36m  File \u001b[1;32m\"<ipython-input-7-a23b37fbc5dc>\"\u001b[1;36m, line \u001b[1;32m13\u001b[0m\n\u001b[1;33m    \"\"\"\u001b[0m\n\u001b[1;37m       \n^\u001b[0m\n\u001b[1;31mIndentationError\u001b[0m\u001b[1;31m:\u001b[0m expected an indented block\n"
     ]
    }
   ],
   "source": [
    "# The following will test areatriangle()\n",
    "areatriangle(3,5)\n",
    "areatriangle(2,20)\n",
    "\n",
    "\n",
    "def areatriangle(b,h):"
   ]
  },
  {
   "cell_type": "markdown",
   "metadata": {},
   "source": [
    "To make a string we may use ' or \". Either works equally well. But if the \n",
    "string contains one, we need to use the other:"
   ]
  },
  {
   "cell_type": "code",
   "execution_count": 4,
   "metadata": {},
   "outputs": [
    {
     "name": "stdout",
     "output_type": "stream",
     "text": [
      "His name is Conan O'Brien\n",
      "My cat is named \"Butters\"\n"
     ]
    }
   ],
   "source": [
    "name = \"His name is Conan O'Brien\"\n",
    "cat = 'My cat is named \"Butters\"'\n",
    "print(name)\n",
    "print(cat)"
   ]
  },
  {
   "cell_type": "markdown",
   "metadata": {},
   "source": [
    "If you need both a ' and a \" in your string, you can use the escape\n",
    "character \\ which tells Python that the following character is to be taken \n",
    "as the literal character and is not a quote to delimit the string.  See it\n",
    "in action escaping the \" below:"
   ]
  },
  {
   "cell_type": "code",
   "execution_count": null,
   "metadata": {
    "collapsed": true
   },
   "outputs": [],
   "source": [
    "both = \"My cat's name is \\\"Butters\\\"\"\n",
    "print(both)"
   ]
  },
  {
   "cell_type": "code",
   "execution_count": 8,
   "metadata": {
    "collapsed": true
   },
   "outputs": [],
   "source": [
    "def fahrenheit_to_celsius(temp):\n",
    "    \"\"\" Converts Fahrenheit temperature to Celsius. \n",
    "        Formula is 5/9 of temp minus 32 \"\"\"\n",
    "    # Note that this line is not executed\n",
    "    # end='' keeps print from starting a new line.\n",
    "    newTemp = 5*(temp-32)/9\n",
    "    print(\"The Fahrenheit temperature\",temp,\"is equivalent to\",newTemp,end='')\n",
    "    print(\" degrees Celsius\")"
   ]
  },
  {
   "cell_type": "markdown",
   "metadata": {},
   "source": [
    "Exercise:\n",
    "Write a function 'def celsius_to_fahrenheit(temp)' to convert Celsius\n",
    "to Fahrentheit temperature. The formula is (9/5) times temp plus 32. \n",
    "Print the output in the form:\n",
    "The Celsius temperature 50.0 is equivalent to 122.0 degrees Fahrenheit."
   ]
  },
  {
   "cell_type": "code",
   "execution_count": 9,
   "metadata": {},
   "outputs": [
    {
     "ename": "IndentationError",
     "evalue": "expected an indented block (<ipython-input-9-fe6dd46f2281>, line 19)",
     "output_type": "error",
     "traceback": [
      "\u001b[1;36m  File \u001b[1;32m\"<ipython-input-9-fe6dd46f2281>\"\u001b[1;36m, line \u001b[1;32m19\u001b[0m\n\u001b[1;33m    \"\"\"\u001b[0m\n\u001b[1;37m       \n^\u001b[0m\n\u001b[1;31mIndentationError\u001b[0m\u001b[1;31m:\u001b[0m expected an indented block\n"
     ]
    }
   ],
   "source": [
    "# The following will test the above function\n",
    "celsius_to_fahrenheit(100)\n",
    "celsius_to_fahrenheit(0)\n",
    "celsius_to_fahrenheit(50.)\n",
    "\n",
    "\n",
    "def celsius_to_fahrenheit(temp):"
   ]
  },
  {
   "cell_type": "code",
   "execution_count": 10,
   "metadata": {
    "collapsed": true
   },
   "outputs": [],
   "source": [
    "def name():\n",
    "    \"\"\" Input first and last name, combine to one string and print \"\"\"\n",
    "    fname = input(\"Enter your first name: \")\n",
    "    lname = input(\"Enter your last name: \")\n",
    "    fullname = fname + \" \" + lname\n",
    "\n",
    "    print(\"Your name is:\", fullname)"
   ]
  },
  {
   "cell_type": "markdown",
   "metadata": {},
   "source": [
    "Exercise:\n",
    "Extend the name function written in class to include the city and state.\n",
    "That is, ask two more questions to get the city and the state you live in.\n",
    "Print where you are from on a new line. Put the customary comma between\n",
    "city and state. to save time, here is the starting function.\n",
    "Your run should look like the following (even if this is not the customary\n",
    "way in your country):\n",
    "Enter your first name: Bill\n",
    "\n",
    "Enter your last name: Boyd\n",
    "\n",
    "Enter the city you live in: Middletown\n",
    "\n",
    "Enter the state you live in: CT\n",
    "Your name is: Bill Boyd\n",
    "You live in:  Middletown, CT"
   ]
  },
  {
   "cell_type": "code",
   "execution_count": 11,
   "metadata": {
    "collapsed": true
   },
   "outputs": [],
   "source": [
    "def name():\n",
    "    \"\"\" Input first and last name, combine to one string and print \n",
    "        Also, input the city and state and print.\"\"\"\n",
    "    fname = input(\"Enter your first name: \")\n",
    "    lname = input(\"Enter your last name: \")\n",
    "    fullname = fname + \" \" + lname\n",
    "    \n",
    "    \n",
    "    print(\"Your name is:\", fullname)"
   ]
  },
  {
   "cell_type": "code",
   "execution_count": 12,
   "metadata": {
    "collapsed": true
   },
   "outputs": [],
   "source": [
    "def if_statement():\n",
    "    \"\"\" Three slightly difference versions of if: if, if-else, if-elif-else\"\"\"\n",
    "    x = 5\n",
    "    y = 0\n",
    "    z = 0\n",
    "    if x > 0:\n",
    "        print(\"x is positive\")\n",
    "        \n",
    "    if y > 0:\n",
    "        print(\"y is positive\")\n",
    "    else:\n",
    "        print(\"y is not positive\")\n",
    "        \n",
    "    # elif can be repeated as often as necessary    \n",
    "    if z > 0:\n",
    "        print(\"z is positive\")\n",
    "    elif z < 0:\n",
    "        print(\"z is negative\")\n",
    "    else:\n",
    "        print(\"z must be 0\")"
   ]
  },
  {
   "cell_type": "markdown",
   "metadata": {},
   "source": [
    "Python uses '=' for assignment and '==' for testing equality. Also '!=' is\n",
    "used to test for non-equality. Try these examples:"
   ]
  },
  {
   "cell_type": "code",
   "execution_count": 13,
   "metadata": {},
   "outputs": [
    {
     "name": "stdout",
     "output_type": "stream",
     "text": [
      "x is equal to y:  True\n",
      "x is not equal to y:  False\n",
      "x is equal to z:  False\n",
      "x is not equal to z:  True\n"
     ]
    }
   ],
   "source": [
    "x = 5\n",
    "y = 5\n",
    "z = 6\n",
    "\n",
    "print(\"x is equal to y: \", x == y)\n",
    "print(\"x is not equal to y: \", x != y)\n",
    "print(\"x is equal to z: \", x == z)\n",
    "print(\"x is not equal to z: \", x != z)"
   ]
  },
  {
   "cell_type": "markdown",
   "metadata": {},
   "source": [
    "The following function uses an 'if' statement. Note that the indention marks\n",
    "the scope of the 'if', 'elif', 'else' actions."
   ]
  },
  {
   "cell_type": "code",
   "execution_count": 14,
   "metadata": {
    "collapsed": true
   },
   "outputs": [],
   "source": [
    "def area(type_, x):\n",
    "    \"\"\" Computes the area of a square or circle. \n",
    "        type_ must be the string \"circle or the string \"square\" \n",
    "        We use type_ here, because type is a Python keyword. \"\"\"\n",
    "    if type_ == \"circle\":\n",
    "        area = 3.14*x**2\n",
    "        print(area)\n",
    "    elif type_ == \"square\":\n",
    "        area = x**2\n",
    "        print(area)\n",
    "    else:\n",
    "        print(\"I don't know that one.\")"
   ]
  },
  {
   "cell_type": "markdown",
   "metadata": {},
   "source": [
    "Exercise:\n",
    "Write a function absolutevalue(num) that computes the absolute value of\n",
    "a number. You will need to use an 'if' statement. Remember if a number is \n",
    "less than zero then you must multiply by -1 to make it greater than zero.\n",
    "Give output in the form:\n",
    "\n",
    "The absolute value of -5  is  5"
   ]
  },
  {
   "cell_type": "code",
   "execution_count": 15,
   "metadata": {},
   "outputs": [
    {
     "ename": "SyntaxError",
     "evalue": "unexpected EOF while parsing (<ipython-input-15-b806e7e6ce41>, line 7)",
     "output_type": "error",
     "traceback": [
      "\u001b[1;36m  File \u001b[1;32m\"<ipython-input-15-b806e7e6ce41>\"\u001b[1;36m, line \u001b[1;32m7\u001b[0m\n\u001b[1;33m    def absolutevalue(num):\u001b[0m\n\u001b[1;37m                           ^\u001b[0m\n\u001b[1;31mSyntaxError\u001b[0m\u001b[1;31m:\u001b[0m unexpected EOF while parsing\n"
     ]
    }
   ],
   "source": [
    "# Test runs\n",
    "absolutevalue(5)\n",
    "absolutevalue(-5)\n",
    "absolutevalue(4-4)\n",
    "\n",
    "\n",
    "def absolutevalue(num):"
   ]
  },
  {
   "cell_type": "markdown",
   "metadata": {},
   "source": [
    "Example: The next three examples work with the 'input' statement and point out\n",
    "some of the things that you might need to be aware of in using one. It also\n",
    "shows how to use the 'print' statement without having a new line started at\n",
    "the end of that statement by using an 'end' argument in it."
   ]
  },
  {
   "cell_type": "code",
   "execution_count": 16,
   "metadata": {
    "collapsed": true
   },
   "outputs": [],
   "source": [
    "def fahrenheit_to_celsius1():\n",
    "    \"\"\" BAD. Does not check input before using it. \n",
    "    Input from keyboard, which is always a string and must often be\n",
    "    converted to an int or float. \n",
    "    Converts Fahrenheit temp to Celsius.\n",
    "    \"\"\"\n",
    "    \n",
    "    temp_str = input(\"Enter a Fahrentheit temperature: \")\n",
    "    temp = int(temp_str)\n",
    "    newTemp = 5*(temp-32)/9\n",
    "    print(\"The Fahrenheit temperature\",temp,\"is equivalent to \",end='')\n",
    "    print(newTemp,\"degrees Celsius\")"
   ]
  },
  {
   "cell_type": "markdown",
   "metadata": {},
   "source": [
    "Test the program above by entering a temperature such as 212. Also check what\n",
    "happens if you simply press enter."
   ]
  },
  {
   "cell_type": "code",
   "execution_count": 17,
   "metadata": {
    "collapsed": true
   },
   "outputs": [],
   "source": [
    "def fahrenheit_to_celsius2():\n",
    "    \"\"\" IMPROVED. Does some checking of input before using it.\n",
    "    Input from keyboard, which is always a string and must often be\n",
    "    converted to an int or float. \n",
    "    Converts Fahrenheit temp to Celsius.\n",
    "    Uses 'if' to make sure an entry was made.\n",
    "    \"\"\"\n",
    "    \n",
    "    temp_str = input(\"Enter a Fahrenheit temperature: \")\n",
    "    if temp_str:\n",
    "        temp = int(temp_str)\n",
    "        newTemp = 5*(temp-32)/9\n",
    "        print(\"The Fahrenheit temperature\",temp,\"is equivalent to \",end='')\n",
    "        print(newTemp,\"degrees Celsius\")"
   ]
  },
  {
   "cell_type": "markdown",
   "metadata": {},
   "source": [
    "Test the program above by entering the temperature 212 and also by simply\n",
    "pressing 'Enter' or 'Return' key. Note the improvement. Now try entering 'a'."
   ]
  },
  {
   "cell_type": "code",
   "execution_count": 18,
   "metadata": {
    "collapsed": true
   },
   "outputs": [],
   "source": [
    "def fahrenheit_to_celsius3():\n",
    "    \"\"\" MORE IMPROVED. Does even more checking of input before using it. \n",
    "    Input from keyboard, which is always a string and must often be\n",
    "    converted to an int or float. \n",
    "    Converts Fahrenheit temp to Celsius.\n",
    "    Uses if to check whether input is a number and then uses .isdigit() method \n",
    "    of strings to check whether input is made of of digits. \n",
    "    \"\"\"\n",
    "        \n",
    "    temp_str = input(\"Enter a Fahrentheit temperature: \")\n",
    "    if temp_str:\n",
    "        if temp_str.isdigit():  \n",
    "            temp = int(temp_str)\n",
    "            newTemp = 5*(temp-32)/9\n",
    "            print(\"The Fahrenheit temperature\",temp,\"is equivalent to \",end='')\n",
    "            print(newTemp,\"degrees Celsius\")\n",
    "        else:\n",
    "            print(\"You must enter a number. Bye\")"
   ]
  },
  {
   "cell_type": "markdown",
   "metadata": {},
   "source": [
    "Test the program above by entering the temperature 212, by simply pressing \n",
    "'Enter' or 'Return' key, and by entering 'a'. Note the improvement. We will\n",
    "leave the function at this point though further improvements could be made."
   ]
  },
  {
   "cell_type": "code",
   "execution_count": 19,
   "metadata": {
    "collapsed": true
   },
   "outputs": [],
   "source": [
    "def inches_to_feet1(inches):\n",
    "    \"\"\" converts inches to feet and inches \"\"\"\n",
    "    feet = inches//12  # division by integer with fraction thrown away\n",
    "    extra_inches = inches - 12*feet\n",
    "    print(inches,\"inches is\",feet,\"feet and\",extra_inches,\"inches\") "
   ]
  },
  {
   "cell_type": "markdown",
   "metadata": {},
   "source": [
    "Exercise: Rewrite inches_to_feet1(inches) calling it inches_to_feet2(inches)\n",
    "using % to compute the inches. Recall that 19 % 5 will give 4 (the remainder).\n",
    "Copy and paste the original into the solution area and modify to same typing \n",
    "time."
   ]
  },
  {
   "cell_type": "code",
   "execution_count": 20,
   "metadata": {},
   "outputs": [
    {
     "ename": "SyntaxError",
     "evalue": "unexpected EOF while parsing (<ipython-input-20-4bd5a97644c9>, line 1)",
     "output_type": "error",
     "traceback": [
      "\u001b[1;36m  File \u001b[1;32m\"<ipython-input-20-4bd5a97644c9>\"\u001b[1;36m, line \u001b[1;32m1\u001b[0m\n\u001b[1;33m    def inches_to_feet2(inches):\u001b[0m\n\u001b[1;37m                                ^\u001b[0m\n\u001b[1;31mSyntaxError\u001b[0m\u001b[1;31m:\u001b[0m unexpected EOF while parsing\n"
     ]
    }
   ],
   "source": [
    "def inches_to_feet2(inches):"
   ]
  },
  {
   "cell_type": "markdown",
   "metadata": {},
   "source": [
    "The 'while' loop. Loops are used to repeat actions and the scope of this\n",
    "repetition is indicated by the indention after the 'while' statement."
   ]
  },
  {
   "cell_type": "code",
   "execution_count": 21,
   "metadata": {
    "collapsed": true
   },
   "outputs": [],
   "source": [
    "def cheer():\n",
    "    \"\"\" Prints 2 4 6 8, who do we appreciate .... Note that everything in \n",
    "    the while loop is indented. The first line not indented is the first\n",
    "    line following the while loop. \"\"\"\n",
    "    ct = 2\n",
    "    while ct <= 8:\n",
    "        print(ct,end=\" \")  # end = \" \" keeps from starting a new line\n",
    "        ct = ct + 2\n",
    "    print()                # now we'll start a new line\n",
    "    print(\"Who do we appreciate?\")\n",
    "    print(\"COURSERA!\")"
   ]
  },
  {
   "cell_type": "markdown",
   "metadata": {},
   "source": [
    "Exercise:\n",
    "Write a function count_down() that starts at 10 and counts down to rocket \n",
    "launch. It's output should be 10 9 8 7 6 5 4 3 2 1 BLASTOFF! You can make\n",
    "all the numbers on the same line or different lines. Use a while loop."
   ]
  },
  {
   "cell_type": "code",
   "execution_count": null,
   "metadata": {
    "collapsed": true
   },
   "outputs": [],
   "source": []
  },
  {
   "cell_type": "markdown",
   "metadata": {},
   "source": [
    "The 'for' loop. This loop uses an iterator to determine how many times to go\n",
    "through the loop. The iterator we use below is 'range(start, stop, step)'."
   ]
  },
  {
   "cell_type": "code",
   "execution_count": 23,
   "metadata": {
    "collapsed": true
   },
   "outputs": [],
   "source": [
    "def cheer2():\n",
    "    \"\"\" Same as cheer, but uses a for loop and range()\n",
    "    range uses a start number, a stop number and a step size. \"\"\"\n",
    "    for ct in range(2,9,2):\n",
    "        print(ct,end=' ')\n",
    "    print()\n",
    "    print(\"Who do we appreciate?\")\n",
    "    print(\"COURSERA!\")"
   ]
  },
  {
   "cell_type": "markdown",
   "metadata": {},
   "source": [
    "Exercise:\n",
    "Write a function countdown1() that starts at 10 and counts down to rocket \n",
    "launch. It's output should be 10 9 8 7 6 5 4 3 2 1 BLASTOFF! You can make\n",
    "all the numbers on the same line or different lines. Use a 'for' loop and\n",
    "range(). range has a start and a stop and a step that MAY BE NEGATIVE."
   ]
  },
  {
   "cell_type": "code",
   "execution_count": 24,
   "metadata": {},
   "outputs": [
    {
     "ename": "SyntaxError",
     "evalue": "unexpected EOF while parsing (<ipython-input-24-afec92e86265>, line 1)",
     "output_type": "error",
     "traceback": [
      "\u001b[1;36m  File \u001b[1;32m\"<ipython-input-24-afec92e86265>\"\u001b[1;36m, line \u001b[1;32m1\u001b[0m\n\u001b[1;33m    def countdown1():\u001b[0m\n\u001b[1;37m                     ^\u001b[0m\n\u001b[1;31mSyntaxError\u001b[0m\u001b[1;31m:\u001b[0m unexpected EOF while parsing\n"
     ]
    }
   ],
   "source": [
    "def countdown1():"
   ]
  },
  {
   "cell_type": "markdown",
   "metadata": {},
   "source": [
    "Some of our exercises involve finding and fixing errors in code. \n",
    "Here is an example. Can you see the errors (there are two)? Note that the\n",
    "editor is pointing out one line with troubles.\n",
    "You can find the error by reading the example carefully, or trying to make\n",
    "it work by using Shift-Enter to insert the function into IPython and reading\n",
    "what error it gives or trying to run the function."
   ]
  },
  {
   "cell_type": "code",
   "execution_count": 25,
   "metadata": {},
   "outputs": [
    {
     "ename": "IndentationError",
     "evalue": "unexpected indent (<ipython-input-25-cd82017c3194>, line 3)",
     "output_type": "error",
     "traceback": [
      "\u001b[1;36m  File \u001b[1;32m\"<ipython-input-25-cd82017c3194>\"\u001b[1;36m, line \u001b[1;32m3\u001b[0m\n\u001b[1;33m    print(\"Your favorite toy is\", my-toy)\u001b[0m\n\u001b[1;37m    ^\u001b[0m\n\u001b[1;31mIndentationError\u001b[0m\u001b[1;31m:\u001b[0m unexpected indent\n"
     ]
    }
   ],
   "source": [
    "def favorite():\n",
    "    my_toy = input(\"What is my favorite toy? \")\n",
    "     print(\"Your favorite toy is\", my-toy)"
   ]
  },
  {
   "cell_type": "code",
   "execution_count": null,
   "metadata": {
    "collapsed": true
   },
   "outputs": [],
   "source": []
  }
 ],
 "metadata": {
  "kernelspec": {
   "display_name": "Python 3",
   "language": "python",
   "name": "python3"
  },
  "language_info": {
   "codemirror_mode": {
    "name": "ipython",
    "version": 3
   },
   "file_extension": ".py",
   "mimetype": "text/x-python",
   "name": "python",
   "nbconvert_exporter": "python",
   "pygments_lexer": "ipython3",
   "version": "3.6.1"
  }
 },
 "nbformat": 4,
 "nbformat_minor": 2
}
