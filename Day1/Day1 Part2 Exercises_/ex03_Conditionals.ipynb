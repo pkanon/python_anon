{
 "cells": [
  {
   "cell_type": "markdown",
   "metadata": {},
   "source": [
    "If elif else"
   ]
  },
  {
   "cell_type": "code",
   "execution_count": 1,
   "metadata": {
    "collapsed": true
   },
   "outputs": [],
   "source": [
    "def main():\n",
    "    a, b = 0, 1 \n",
    "    \n",
    "    # if-else\n",
    "    if a<b:\n",
    "        print('this is true')\n",
    "    else:\n",
    "        print('this is not true')\n",
    "        \n",
    "    # if-elif-else    \n",
    "    v = 'one'\n",
    "    if v == 'one':\n",
    "        print('v is one')\n",
    "    elif v == 'two':\n",
    "        print('v is one')\n",
    "    elif v == 'three':\n",
    "        print('v is three')\n",
    "    else:\n",
    "        print('v is some other thing')\n",
    "        \n",
    "    a, b = 1, 1\n",
    "    if a < b:\n",
    "        v = 'this is true'\n",
    "    else:\n",
    "        v = 'this is not true'\n",
    "    print(v)    \n",
    "    v = 'this is true' if a < b else 'this is not true'\n",
    "    print(v)"
   ]
  },
  {
   "cell_type": "code",
   "execution_count": 2,
   "metadata": {},
   "outputs": [
    {
     "name": "stdout",
     "output_type": "stream",
     "text": [
      "this is true\n",
      "v is one\n",
      "this is not true\n",
      "this is not true\n"
     ]
    }
   ],
   "source": [
    "if __name__ == \"__main__\": main()"
   ]
  }
 ],
 "metadata": {
  "kernelspec": {
   "display_name": "Python [default]",
   "language": "python",
   "name": "python3"
  },
  "language_info": {
   "codemirror_mode": {
    "name": "ipython",
    "version": 3
   },
   "file_extension": ".py",
   "mimetype": "text/x-python",
   "name": "python",
   "nbconvert_exporter": "python",
   "pygments_lexer": "ipython3",
   "version": "3.6.2"
  }
 },
 "nbformat": 4,
 "nbformat_minor": 2
}
