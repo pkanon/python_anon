{
 "cells": [
  {
   "cell_type": "markdown",
   "metadata": {},
   "source": [
    "While loop"
   ]
  },
  {
   "cell_type": "code",
   "execution_count": 5,
   "metadata": {
    "collapsed": true
   },
   "outputs": [],
   "source": [
    "def main():\n",
    "    # simple fibonacci series\n",
    "    # the sum of two elements defines the next set\n",
    "    a, b = 0, 1\n",
    "    while b < 50: # b<150\n",
    "        print(b, end=' ')\n",
    "        a, b = b, a + b"
   ]
  },
  {
   "cell_type": "code",
   "execution_count": 6,
   "metadata": {},
   "outputs": [
    {
     "name": "stdout",
     "output_type": "stream",
     "text": [
      "1 1 2 3 5 8 13 21 34 "
     ]
    }
   ],
   "source": [
    "if __name__ == \"__main__\": \n",
    "    main()"
   ]
  },
  {
   "cell_type": "markdown",
   "metadata": {},
   "source": [
    "For loop"
   ]
  },
  {
   "cell_type": "code",
   "execution_count": 23,
   "metadata": {
    "collapsed": true
   },
   "outputs": [],
   "source": [
    "def main():    \n",
    "    fh = open('lines.txt')\n",
    "    for line in fh.readlines(): \n",
    "        print(line, end='')\n",
    "        \n",
    "    for line in [1,2,3,4,5]:\n",
    "        print(line, end=' ')\n",
    "    print()\n",
    "        \n",
    "    for line in 'string':\n",
    "        print(line)"
   ]
  },
  {
   "cell_type": "code",
   "execution_count": 24,
   "metadata": {},
   "outputs": [
    {
     "name": "stdout",
     "output_type": "stream",
     "text": [
      "01 This is a line of text\n",
      "02 This is a line of text\n",
      "03 This is a line of text\n",
      "04 This is a line of text\n",
      "05 This is a line of text\n",
      "1 2 3 4 5 \n",
      "s\n",
      "t\n",
      "r\n",
      "i\n",
      "n\n",
      "g\n"
     ]
    }
   ],
   "source": [
    "if __name__ == \"__main__\": \n",
    "    main()"
   ]
  },
  {
   "cell_type": "markdown",
   "metadata": {},
   "source": [
    "Enumerating iterators"
   ]
  },
  {
   "cell_type": "code",
   "execution_count": 27,
   "metadata": {
    "collapsed": true
   },
   "outputs": [],
   "source": [
    "def main():\n",
    "    fh = open('lines.txt')\n",
    "    for index, line in enumerate(fh.readlines()):\n",
    "        print(index, line, end='')\n",
    "        \n",
    "    s = 'this is a string'\n",
    "    for i, c in enumerate(s):\n",
    "        print(i,c)\n",
    "        if c == 's': print('index {} is an s'.format(i))"
   ]
  },
  {
   "cell_type": "code",
   "execution_count": 28,
   "metadata": {},
   "outputs": [
    {
     "name": "stdout",
     "output_type": "stream",
     "text": [
      "0 01 This is a line of text\n",
      "1 02 This is a line of text\n",
      "2 03 This is a line of text\n",
      "3 04 This is a line of text\n",
      "4 05 This is a line of text\n",
      "0 t\n",
      "1 h\n",
      "2 i\n",
      "3 s\n",
      "index 3 is an s\n",
      "4  \n",
      "5 i\n",
      "6 s\n",
      "index 6 is an s\n",
      "7  \n",
      "8 a\n",
      "9  \n",
      "10 s\n",
      "index 10 is an s\n",
      "11 t\n",
      "12 r\n",
      "13 i\n",
      "14 n\n",
      "15 g\n"
     ]
    }
   ],
   "source": [
    "if __name__ == \"__main__\": \n",
    "    main()"
   ]
  },
  {
   "cell_type": "markdown",
   "metadata": {},
   "source": [
    "Loop control"
   ]
  },
  {
   "cell_type": "code",
   "execution_count": 33,
   "metadata": {
    "collapsed": true
   },
   "outputs": [],
   "source": [
    "def main():\n",
    "    s = 'this is a string'\n",
    "    for c in s:\n",
    "        print(c, end='')\n",
    "    print()\n",
    "    \n",
    "    #1. continue\n",
    "    s = 'this is a string'\n",
    "    for c in s:\n",
    "        if c =='s':\n",
    "            continue\n",
    "        print(c, end='')\n",
    "    print()\n",
    "    \n",
    "    #2. break\n",
    "    s = 'this is a string'\n",
    "    for c in s:\n",
    "        if c =='s':\n",
    "            break\n",
    "        print(c, end='')\n",
    "    print()\n",
    "    \n",
    "    #3. else\n",
    "    s = 'this is a string'\n",
    "    for c in s:\n",
    "        print(c, end='')\n",
    "    else: #else is use\n",
    "        print('else')\n",
    "        \n",
    "    #4.\n",
    "    s = 'this is a string'\n",
    "    i = 0 \n",
    "    while i<len(s):\n",
    "        print(s[i], end='')\n",
    "        i+=1\n",
    "    else: \n",
    "        print('else')"
   ]
  },
  {
   "cell_type": "code",
   "execution_count": 34,
   "metadata": {},
   "outputs": [
    {
     "name": "stdout",
     "output_type": "stream",
     "text": [
      "this is a string\n",
      "thi i a tring\n",
      "thi\n",
      "this is a stringelse\n",
      "this is a stringelse\n"
     ]
    }
   ],
   "source": [
    "if __name__ == \"__main__\": main()"
   ]
  }
 ],
 "metadata": {
  "kernelspec": {
   "display_name": "Python [default]",
   "language": "python",
   "name": "python3"
  },
  "language_info": {
   "codemirror_mode": {
    "name": "ipython",
    "version": 3
   },
   "file_extension": ".py",
   "mimetype": "text/x-python",
   "name": "python",
   "nbconvert_exporter": "python",
   "pygments_lexer": "ipython3",
   "version": "3.6.2"
  }
 },
 "nbformat": 4,
 "nbformat_minor": 2
}
