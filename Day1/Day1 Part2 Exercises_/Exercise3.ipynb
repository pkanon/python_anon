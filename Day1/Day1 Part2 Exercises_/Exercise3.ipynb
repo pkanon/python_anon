{
 "cells": [
  {
   "cell_type": "markdown",
   "metadata": {},
   "source": [
    "Problem 1_1:\n",
    "Write a function problem1_1() that prints \"Problem Set 1\". \n",
    "\n",
    "Tip: Be careful that your program outputs this exact phrase with no additional \n",
    "characters.  It will be graded automatically and must be precise.  Here is the\n",
    "run of my solved problem 1_1:\n",
    "\n",
    "problem1_1()\n",
    "Problem Set 1\n",
    "\n",
    "Note the problem1_1() is what I typed to run the problem and \"Problem Set 1\" is\n",
    "what it printed out.  There will typically be a sample run such as this either \n",
    "before or after the statement of each problem. This helps clarify what you\n",
    "are expected to do and shows how the auto-grader expects it to look."
   ]
  },
  {
   "cell_type": "code",
   "execution_count": null,
   "metadata": {
    "collapsed": true
   },
   "outputs": [],
   "source": [
    "def problem1_1():\n",
    "    pass # replace this pass (a do-nothing) statement with your code"
   ]
  },
  {
   "cell_type": "markdown",
   "metadata": {},
   "source": [
    "Problem 1_2:\n",
    "Write a function problem1_2(x,y) that prints the sum and product of the\n",
    "numbers x and y on separate lines, the sum printing first."
   ]
  },
  {
   "cell_type": "code",
   "execution_count": null,
   "metadata": {
    "collapsed": true
   },
   "outputs": [],
   "source": [
    "def problem1_2(x,y):\n",
    "    pass # replace this pass (a do-nothing) statement with your code"
   ]
  },
  {
   "cell_type": "markdown",
   "metadata": {},
   "source": [
    "Test run. Note that the grader program will use different numbers:\n",
    "\n",
    "problem1_2(3,5)\n",
    "8\n",
    "15"
   ]
  },
  {
   "cell_type": "code",
   "execution_count": null,
   "metadata": {
    "collapsed": true
   },
   "outputs": [],
   "source": []
  },
  {
   "cell_type": "markdown",
   "metadata": {},
   "source": [
    "Problem 1_3:  \n",
    "Write a function problem1_3(n) that adds up the numbers 1 through n and\n",
    "prints out the result. You should use either a 'while' loop or a 'for' loop.\n",
    "Be sure that you check your answer on several numbers n.  Be careful that your\n",
    "loop steps through all the numbers from 1 through and including n.\n",
    "\n",
    "Tip: As this involves a loop you could make an error that causes it to run \n",
    "forever. Usually Control-C will stop it. See suggestions at the beginning of \n",
    "this document.  With loops take care that your first and last iterations are\n",
    "what you expect. A print statement can be inserted in the loop to monitor it, \n",
    "but be sure this isn't in the submitted function."
   ]
  },
  {
   "cell_type": "code",
   "execution_count": null,
   "metadata": {
    "collapsed": true
   },
   "outputs": [],
   "source": [
    "def problem1_3(n):\n",
    "    my_sum = 0\n",
    "    pass # replace this pass (a do-nothing) statement with your code"
   ]
  },
  {
   "cell_type": "markdown",
   "metadata": {},
   "source": [
    "Test run. Note that the grader program will use a different number for n:\n",
    "\n",
    "problem1_3(6)\n",
    "21"
   ]
  },
  {
   "cell_type": "code",
   "execution_count": null,
   "metadata": {
    "collapsed": true
   },
   "outputs": [],
   "source": []
  },
  {
   "cell_type": "markdown",
   "metadata": {},
   "source": [
    "Problem 1_4:\n",
    "Write a function 'problem1_4(miles)' to convert miles to feet. There are\n",
    "5280 feet in each mile. Make the print out a statement as follows:\n",
    "\"There are 10560 feet in 2 miles.\"  Except for the numbers this statement \n",
    "should be exactly as written.\n",
    "\n",
    "Tip: Watch the spacing before and after your numbers.  Make sure that it is \n",
    "just one space or the auto-grader may not give you credit."
   ]
  },
  {
   "cell_type": "code",
   "execution_count": null,
   "metadata": {
    "collapsed": true
   },
   "outputs": [],
   "source": [
    "def problem1_4(miles):\n",
    "    pass # replace this pass (a do-nothing) statement with your code"
   ]
  },
  {
   "cell_type": "markdown",
   "metadata": {},
   "source": [
    "Test run. Note that the grader program will use different numbers:\n",
    "\n",
    "problem1_4(5)\n",
    "There are 26400 feet in 5 miles."
   ]
  },
  {
   "cell_type": "markdown",
   "metadata": {},
   "source": [
    "Problem 1_5:\n",
    "Write a function 'problem1_5(age)'. This function should use if-elif-else\n",
    "statement to print out \"Have a glass of milk.\" for anyone under 7; \"Have\n",
    "a coke.\" for anyone under 21, and \"Have a martini.\" for anyone 21 or older.\n",
    "\n",
    "Tip: Be careful about the ages 7 (a seven year old is not under 7) and 21.\n",
    "Also be careful to make the phrases exactly as shown for the auto-grader."
   ]
  },
  {
   "cell_type": "code",
   "execution_count": null,
   "metadata": {
    "collapsed": true
   },
   "outputs": [],
   "source": [
    "def problem1_5(age):\n",
    "    pass # replace this pass (a do-nothing) statement with your code"
   ]
  },
  {
   "cell_type": "markdown",
   "metadata": {},
   "source": [
    "Test runs (3 of them). Note that the grader program will use different numbers:\n",
    "problem1_5(5)\n",
    "Have a glass of milk.\n",
    "\n",
    "problem1_5(10)\n",
    "Have a coke.\n",
    "\n",
    "problem1_5(25)\n",
    "Have a martini."
   ]
  },
  {
   "cell_type": "code",
   "execution_count": null,
   "metadata": {
    "collapsed": true
   },
   "outputs": [],
   "source": []
  },
  {
   "cell_type": "markdown",
   "metadata": {},
   "source": [
    "Problem 1_6:\n",
    "Write a function 'problem1_6()' that prints the odd numbers from 1 through 100.\n",
    "Make all of these numbers appear on the same line (actually, when the line\n",
    "fills up it will wrap around, but ignore that.). In order to do this, your\n",
    "print statement should have end=\" \" in it. For example, print(name,end=\" \") \n",
    "will keep the next print statement from starting a new line. Be sure there is a\n",
    "space between these quotes or your numbers will run together. Use a single \n",
    "space as that is what the grading program expects. Use a 'for' loop \n",
    "and a range() function. \n",
    "\n",
    "Things to be careful of that might go wrong: You print too many numbers, you\n",
    "put too much or too little space between them, you print each number on its \n",
    "own line, you print even numbers or all numbers, your first number isn't 1 or\n",
    "your last number isn't 99.  Always check first and last outputs when you write\n",
    "a loop."
   ]
  },
  {
   "cell_type": "code",
   "execution_count": null,
   "metadata": {
    "collapsed": true
   },
   "outputs": [],
   "source": [
    "def problem1_6():\n",
    "    pass # replace this pass (a do-nothing) statement with your code"
   ]
  },
  {
   "cell_type": "markdown",
   "metadata": {},
   "source": [
    "Test run (I've inserted a newline here to cause wrapping in the editor):\n",
    "\n",
    "problem1_6()\n",
    "1 3 5 7 9 11 13 15 17 19 21 23 25 27 29 31 33 35 37 39 41 43 45 47 49 51 53 55 \n",
    "57 59 61 63 65 67 69 71 73 75 77 79 81 83 85 87 89 91 93 95 97 99"
   ]
  },
  {
   "cell_type": "code",
   "execution_count": null,
   "metadata": {
    "collapsed": true
   },
   "outputs": [],
   "source": []
  },
  {
   "cell_type": "markdown",
   "metadata": {},
   "source": [
    "Problem 1_7:\n",
    "Write a function problem1_7() that computes the area of a trapezoid. Here is the\n",
    "formula: A = (1/2)(b1+b2)h. In the formula b1 is the length of one of the \n",
    "bases, b2 the other. The height is h and the area is A. Basically, this \n",
    "takes the average of the two bases times the height. For a rectangle b1 = b2, \n",
    "so this reduces to b1*h. This means that you can do a pretty good test of the \n",
    "correctness of your function using a rectangle (that way you can compute the \n",
    "answer in your head). Use input statements to ask for the bases and the height.\n",
    "Convert these input strings to real numbers using float(). Print the output\n",
    "nicely EXACTLY like mine below.\n",
    "\n",
    "Tip: Be careful that your output on the test case below is exactly as shown\n",
    "so that the auto-grader judges your output correctly.  The auto-grader does\n",
    "not look at your input statements, so you don't have to use my input prompts\n",
    "if you don't want to. However, the auto-grader will enter the three inputs in\n",
    "the order shown. See the other test run below.\n",
    "\n",
    "problem1_7()\n",
    "\n",
    "Enter the length of one of the bases: 3\n",
    "\n",
    "Enter the length of the other base: 4\n",
    "\n",
    "Enter the height: 8\n",
    "The area of a trapezoid with bases 3.0 and 4.0 and height 8.0 is 28.0"
   ]
  },
  {
   "cell_type": "code",
   "execution_count": null,
   "metadata": {
    "collapsed": true
   },
   "outputs": [],
   "source": [
    "def problem1_7():\n",
    "    pass # replace this pass (a do-nothing) statement with your code"
   ]
  },
  {
   "cell_type": "markdown",
   "metadata": {},
   "source": [
    "Another test run. In grading, expect different input numbers to be used.\n",
    "\n",
    "problem1_7()\n",
    "\n",
    "Enter the length of one of the bases: 10\n",
    "\n",
    "Enter the length of the other base: 11\n",
    "\n",
    "Enter the height: 12\n",
    "The area of a trapezoid with bases 10.0 and 11.0 and height 12.0 is 126.0"
   ]
  },
  {
   "cell_type": "code",
   "execution_count": null,
   "metadata": {
    "collapsed": true
   },
   "outputs": [],
   "source": []
  }
 ],
 "metadata": {
  "kernelspec": {
   "display_name": "Python 3",
   "language": "python",
   "name": "python3"
  },
  "language_info": {
   "codemirror_mode": {
    "name": "ipython",
    "version": 3
   },
   "file_extension": ".py",
   "mimetype": "text/x-python",
   "name": "python",
   "nbconvert_exporter": "python",
   "pygments_lexer": "ipython3",
   "version": "3.6.1"
  }
 },
 "nbformat": 4,
 "nbformat_minor": 2
}
