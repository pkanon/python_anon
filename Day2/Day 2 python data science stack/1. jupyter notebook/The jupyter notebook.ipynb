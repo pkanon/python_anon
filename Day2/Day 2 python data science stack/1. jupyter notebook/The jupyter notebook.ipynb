{
 "cells": [
  {
   "cell_type": "markdown",
   "metadata": {},
   "source": [
    "# Learning Jupyter Notebook"
   ]
  },
  {
   "cell_type": "code",
   "execution_count": 2,
   "metadata": {},
   "outputs": [
    {
     "data": {
      "text/plain": [
       "42"
      ]
     },
     "execution_count": 2,
     "metadata": {},
     "output_type": "execute_result"
    }
   ],
   "source": [
    "40 + 2"
   ]
  },
  {
   "cell_type": "markdown",
   "metadata": {},
   "source": [
    "## import library"
   ]
  },
  {
   "cell_type": "code",
   "execution_count": 3,
   "metadata": {
    "collapsed": true
   },
   "outputs": [],
   "source": [
    "import numpy as np"
   ]
  },
  {
   "cell_type": "code",
   "execution_count": 4,
   "metadata": {},
   "outputs": [
    {
     "data": {
      "text/plain": [
       "0.89399666360055785"
      ]
     },
     "execution_count": 4,
     "metadata": {},
     "output_type": "execute_result"
    }
   ],
   "source": [
    "np.sin(90)"
   ]
  },
  {
   "cell_type": "markdown",
   "metadata": {},
   "source": [
    "## get library documentation"
   ]
  },
  {
   "cell_type": "code",
   "execution_count": 5,
   "metadata": {},
   "outputs": [],
   "source": [
    "np.sin?"
   ]
  },
  {
   "cell_type": "code",
   "execution_count": 4,
   "metadata": {
    "collapsed": true
   },
   "outputs": [],
   "source": [
    "np.any??"
   ]
  },
  {
   "cell_type": "markdown",
   "metadata": {},
   "source": [
    "## magic commands"
   ]
  },
  {
   "cell_type": "code",
   "execution_count": 5,
   "metadata": {},
   "outputs": [
    {
     "data": {
      "text/plain": [
       "'/Users/kwarodom/Workspace/sidtechtalent/lecture2 python data science stack/1. jupyter notebook'"
      ]
     },
     "execution_count": 5,
     "metadata": {},
     "output_type": "execute_result"
    }
   ],
   "source": [
    "%pwd"
   ]
  },
  {
   "cell_type": "code",
   "execution_count": 6,
   "metadata": {},
   "outputs": [
    {
     "name": "stdout",
     "output_type": "stream",
     "text": [
      "-0.958924274663\n",
      "-0.958924274663\n",
      "-0.958924274663\n",
      "-0.958924274663\n",
      "-0.958924274663\n",
      "CPU times: user 1.14 ms, sys: 1.25 ms, total: 2.39 ms\n",
      "Wall time: 1.35 ms\n"
     ]
    }
   ],
   "source": [
    "%%time\n",
    "for i in range(5):\n",
    "    print(np.sin(5))"
   ]
  },
  {
   "cell_type": "code",
   "execution_count": 7,
   "metadata": {
    "collapsed": true
   },
   "outputs": [],
   "source": [
    "%magic"
   ]
  },
  {
   "cell_type": "markdown",
   "metadata": {},
   "source": [
    "## shell commands"
   ]
  },
  {
   "cell_type": "code",
   "execution_count": 8,
   "metadata": {},
   "outputs": [
    {
     "name": "stdout",
     "output_type": "stream",
     "text": [
      "\u001b[34mBluetooth\u001b[m\u001b[m                 opendirectoryd.log        system.log.4.gz\r\n",
      "CDIS.custom               opendirectoryd.log.0      system.log.5.gz\r\n",
      "\u001b[34mCoreDuet\u001b[m\u001b[m                  opendirectoryd.log.1      \u001b[34mtimezone\u001b[m\u001b[m\r\n",
      "\u001b[34mDiagnosticMessages\u001b[m\u001b[m        opendirectoryd.log.2      \u001b[34muucp\u001b[m\u001b[m\r\n",
      "SleepWakeStacks.bin       opendirectoryd.log.3      vnetlib\r\n",
      "\u001b[34mapache2\u001b[m\u001b[m                   opendirectoryd.log.4      weekly.out\r\n",
      "\u001b[34masl\u001b[m\u001b[m                       opendirectoryd.log.5      wifi.log\r\n",
      "\u001b[34mcom.apple.revisiond\u001b[m\u001b[m       opendirectoryd.log.6      wifi.log.0.bz2\r\n",
      "\u001b[34mcom.apple.xpc.launchd\u001b[m\u001b[m     opendirectoryd.log.7      wifi.log.1.bz2\r\n",
      "corecaptured.log          opendirectoryd.log.8      wifi.log.10.bz2\r\n",
      "\u001b[34mcups\u001b[m\u001b[m                      opendirectoryd.log.9      wifi.log.2.bz2\r\n",
      "daily.out                 \u001b[34mpowermanagement\u001b[m\u001b[m           wifi.log.3.bz2\r\n",
      "displaypolicyd.log        \u001b[34mppp\u001b[m\u001b[m                       wifi.log.4.bz2\r\n",
      "displaypolicyd.stdout.log system.log                wifi.log.5.bz2\r\n",
      "\u001b[34memond\u001b[m\u001b[m                     system.log.0.gz           wifi.log.6.bz2\r\n",
      "fsck_hfs.log              system.log.1.gz           wifi.log.7.bz2\r\n",
      "install.log               system.log.2.gz           wifi.log.8.bz2\r\n",
      "monthly.out               system.log.3.gz           wifi.log.9.bz2\r\n"
     ]
    }
   ],
   "source": [
    "!ls /var/log"
   ]
  },
  {
   "cell_type": "code",
   "execution_count": 9,
   "metadata": {},
   "outputs": [
    {
     "name": "stdout",
     "output_type": "stream",
     "text": [
      "\u001b[34mBluetooth\u001b[m\u001b[m                 opendirectoryd.log        system.log.4.gz\r\n",
      "CDIS.custom               opendirectoryd.log.0      system.log.5.gz\r\n",
      "\u001b[34mCoreDuet\u001b[m\u001b[m                  opendirectoryd.log.1      \u001b[34mtimezone\u001b[m\u001b[m\r\n",
      "\u001b[34mDiagnosticMessages\u001b[m\u001b[m        opendirectoryd.log.2      \u001b[34muucp\u001b[m\u001b[m\r\n",
      "SleepWakeStacks.bin       opendirectoryd.log.3      vnetlib\r\n",
      "\u001b[34mapache2\u001b[m\u001b[m                   opendirectoryd.log.4      weekly.out\r\n",
      "\u001b[34masl\u001b[m\u001b[m                       opendirectoryd.log.5      wifi.log\r\n",
      "\u001b[34mcom.apple.revisiond\u001b[m\u001b[m       opendirectoryd.log.6      wifi.log.0.bz2\r\n",
      "\u001b[34mcom.apple.xpc.launchd\u001b[m\u001b[m     opendirectoryd.log.7      wifi.log.1.bz2\r\n",
      "corecaptured.log          opendirectoryd.log.8      wifi.log.10.bz2\r\n",
      "\u001b[34mcups\u001b[m\u001b[m                      opendirectoryd.log.9      wifi.log.2.bz2\r\n",
      "daily.out                 \u001b[34mpowermanagement\u001b[m\u001b[m           wifi.log.3.bz2\r\n",
      "displaypolicyd.log        \u001b[34mppp\u001b[m\u001b[m                       wifi.log.4.bz2\r\n",
      "displaypolicyd.stdout.log system.log                wifi.log.5.bz2\r\n",
      "\u001b[34memond\u001b[m\u001b[m                     system.log.0.gz           wifi.log.6.bz2\r\n",
      "fsck_hfs.log              system.log.1.gz           wifi.log.7.bz2\r\n",
      "install.log               system.log.2.gz           wifi.log.8.bz2\r\n",
      "monthly.out               system.log.3.gz           wifi.log.9.bz2\r\n"
     ]
    }
   ],
   "source": [
    "dir_name = '/var/log'\n",
    "!ls $dir_name"
   ]
  },
  {
   "cell_type": "code",
   "execution_count": 10,
   "metadata": {},
   "outputs": [
    {
     "name": "stdout",
     "output_type": "stream",
     "text": [
      "We have 54 files at /var/log\n"
     ]
    }
   ],
   "source": [
    "files = !ls /var/log\n",
    "print('We have {} files at {}'.format(len(files), dir_name))"
   ]
  },
  {
   "cell_type": "markdown",
   "metadata": {},
   "source": [
    "## understand markdown"
   ]
  },
  {
   "cell_type": "markdown",
   "metadata": {},
   "source": [
    "Some text goes here\n",
    "\n",
    "* list\n",
    "* of\n",
    "* item\n",
    "\n",
    "# Head 1\n",
    "\n",
    "## Head 2\n",
    "\n",
    "[Pandas](http://pandas.pydata.org) is awesome.\n",
    "\n",
    "![](https://static.pexels.com/photos/54632/cat-animal-eyes-grey-54632.jpeg)\n",
    "\n",
    "Euler's identity is $e^{i\\pi}+1=0$"
   ]
  },
  {
   "cell_type": "code",
   "execution_count": 13,
   "metadata": {},
   "outputs": [
    {
     "data": {
      "text/plain": [
       "'/var/log'"
      ]
     },
     "execution_count": 13,
     "metadata": {},
     "output_type": "execute_result"
    }
   ],
   "source": [
    "dir_name"
   ]
  },
  {
   "cell_type": "code",
   "execution_count": null,
   "metadata": {
    "collapsed": true
   },
   "outputs": [],
   "source": [
    "y = x + 7"
   ]
  }
 ],
 "metadata": {
  "kernelspec": {
   "display_name": "Python [default]",
   "language": "python",
   "name": "python3"
  },
  "language_info": {
   "codemirror_mode": {
    "name": "ipython",
    "version": 3
   },
   "file_extension": ".py",
   "mimetype": "text/x-python",
   "name": "python",
   "nbconvert_exporter": "python",
   "pygments_lexer": "ipython3",
   "version": "3.6.2"
  }
 },
 "nbformat": 4,
 "nbformat_minor": 2
}
